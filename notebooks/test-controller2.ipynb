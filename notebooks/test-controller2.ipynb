{
 "cells": [
  {
   "cell_type": "code",
   "execution_count": 1,
   "metadata": {},
   "outputs": [
    {
     "name": "stdout",
     "output_type": "stream",
     "text": [
      "Connecting to hello world server…\n"
     ]
    },
    {
     "data": {
      "text/plain": "<contextlib._GeneratorContextManager at 0x7f0e2004ed30>"
     },
     "execution_count": 1,
     "metadata": {},
     "output_type": "execute_result"
    }
   ],
   "source": [
    "import zmq\n",
    "import numpy as np\n",
    "import math\n",
    "from __future__ import print_function\n",
    "from IPython.display import clear_output, display\n",
    "from inputs import get_gamepad\n",
    "import msgpack\n",
    "\n",
    "\n",
    "\n",
    "context = zmq.Context()\n",
    "\n",
    "#  Socket to talk to server\n",
    "print(\"Connecting to hello world server…\")\n",
    "socket = context.socket(zmq.PUB)\n",
    "socket.bind(\"tcp://0.0.0.0:5555\")\n",
    "# socket.connect(\"tcp://192.168.50.234:5555\")\n",
    "\n",
    "#  Do 10 requests, waiting each time for a response\n",
    "# for request in range(10):\n",
    "#     print(\"Sending request %s …\" % request)\n",
    "#     socket.send(b\"Hello\")\n",
    "\n",
    "#     #  Get the reply.\n",
    "#     message = socket.recv()\n",
    "#     print(\"Received reply %s [ %s ]\" % (request, message))"
   ]
  },
  {
   "cell_type": "code",
   "execution_count": 21,
   "metadata": {},
   "outputs": [
    {
     "data": {
      "text/plain": "'d 0.7853981633974483  s 1.4142135623730951 '"
     },
     "metadata": {},
     "output_type": "display_data"
    },
    {
     "name": "stdout",
     "output_type": "stream",
     "text": [
      "1 1 (0.0, 100.0)\n",
      "0 0 (0.0, 0.0)\n"
     ]
    },
    {
     "data": {
      "text/plain": "'d -2.356194490192345  s 1.4142135623730951 '"
     },
     "metadata": {},
     "output_type": "display_data"
    },
    {
     "name": "stdout",
     "output_type": "stream",
     "text": [
      "-1 -1 (0.0, -100.0)\n"
     ]
    }
   ],
   "source": [
    "def joystickToDiff(x, y, minSpeed, maxSpeed, minJoystick=-1.0, maxJoystick=1.0):\t# If x and y are 0, then there is not much to calculate...\n",
    "\tif x == 0.0 and y == 0.0:\n",
    "\t\treturn (0.0, 0.0)\n",
    "    \n",
    "\tdirection = np.arctan2(y, x)\n",
    "\txmax = np.minimum(1.0, np.abs(np.cos(direction)))\n",
    "\tymax = np.minimum(1.0, np.abs(np.sin(direction)))\n",
    "\tspeed = np.hypot(x,y) / np.hypot(xmax,ymax)\n",
    "\tdisplay(\"d {}  s {} \".format(direction, speed))\n",
    "\n",
    "\tstraight_treshold = np.pi / 8\n",
    "\tif np.abs(direction - np.pi/2.0) < straight_treshold:\n",
    "\t\treturn (speed, speed)\n",
    "\telif np.abs(direction + np.pi/2.0) < straight_treshold:\n",
    "\t\treturn (-speed, -speed)\n",
    "\t# elif y > 0:\n",
    "\n",
    "\t# First Compute the angle in deg\n",
    "\t# First hypotenuse\n",
    "\tz = math.sqrt(x * x + y * y)\n",
    "\n",
    "\t# angle in radians\n",
    "\trad = math.acos(math.fabs(x) / z)\n",
    "\n",
    "\t# and in degrees\n",
    "\tangle = rad * 180 / math.pi\n",
    "\n",
    "\t# Now angle indicates the measure of turn\n",
    "\t# Along a straight line, with an angle o, the turn co-efficient is same\n",
    "\t# this applies for angles between 0-90, with angle 0 the coeff is -1\n",
    "\t# with angle 45, the co-efficient is 0 and with angle 90, it is 1\n",
    "\n",
    "\ttcoeff = -1 + (angle / 90) * 2\n",
    "\tturn = tcoeff * math.fabs(math.fabs(y) - math.fabs(x))\n",
    "\tturn = round(turn * 100, 0) / 100\n",
    "\n",
    "\t# And max of y or x is the movement\n",
    "\tmov = max(math.fabs(y), math.fabs(x))\n",
    "\n",
    "\t# First and third quadrant\n",
    "\tif (x >= 0 and y >= 0) or (x < 0 and y < 0):\n",
    "\t\trawLeft = mov\n",
    "\t\trawRight = turn\n",
    "\telse:\n",
    "\t\trawRight = mov\n",
    "\t\trawLeft = turn\n",
    "\n",
    "\t# Reverse polarity\n",
    "\tif y < 0:\n",
    "\t\trawLeft = 0 - rawLeft\n",
    "\t\trawRight = 0 - rawRight\n",
    "\n",
    "\t# minJoystick, maxJoystick, minSpeed, maxSpeed\n",
    "\t# Map the values onto the defined rang\n",
    "\trightOut = limit(rawRight, minJoystick, maxJoystick, minSpeed, maxSpeed)\n",
    "\tleftOut = limit(rawLeft, minJoystick, maxJoystick, minSpeed, maxSpeed)\n",
    "\n",
    "\treturn (rightOut, leftOut)\n",
    "\n",
    "def limit(v, in_min, in_max, out_min, out_max):\n",
    "\t# Check that the value is at least in_min\n",
    "\tif v < in_min:\n",
    "\t\tv = in_min\n",
    "\t# Check that the value is at most in_max\n",
    "\tif v > in_max:\n",
    "\t\tv = in_max\n",
    "\treturn (v - in_min) * (out_max - out_min) / (in_max - in_min) + out_min\n",
    "\n",
    "print(1,1,joystickToDiff(1,1,-100,100))\n",
    "print(0,0,joystickToDiff(0,0,-100,100))\n",
    "print(-1,-1,joystickToDiff(-1,-1,-100,100))"
   ]
  },
  {
   "cell_type": "code",
   "execution_count": 22,
   "metadata": {},
   "outputs": [
    {
     "data": {
      "text/plain": "(0.0, 0.0)"
     },
     "metadata": {},
     "output_type": "display_data"
    },
    {
     "data": {
      "text/plain": "(0.0, 0.0)"
     },
     "metadata": {},
     "output_type": "display_data"
    }
   ],
   "source": [
    "class Messages:\n",
    "    def control(lr):\n",
    "        return msgpack.packb({\n",
    "            \"type\": \"control-wheels\",\n",
    "            \"left\": lr[0],\n",
    "            \"right\": lr[1]\n",
    "        })\n",
    "\n",
    "class Controll():\n",
    "    def __init__(self):\n",
    "        self.rx = 0\n",
    "        self.ry = 0\n",
    "    \n",
    "    def norm(self, value):\n",
    "        low, high = 129.0, 32768.0\n",
    "        return (np.maximum(0.0,np.abs(value)-low) / (high - low)) * np.sign(value)\n",
    "\n",
    "    def read_joy(self):\n",
    "        events = get_gamepad()\n",
    "        for event in events:\n",
    "            if event.ev_type == \"Absolute\":\n",
    "                if event.code == \"ABS_RX\":\n",
    "                    self.rx = self.norm(event.state)\n",
    "                elif event.code == \"ABS_RY\":\n",
    "                    self.ry = -self.norm(event.state)\n",
    "            # elif event.ev_type == \"Sync\" and event.code == \"SYN_REPORT\":\n",
    "            #     self.x, self.y = 0, 0\n",
    "    \n",
    "    def send_controll(self):\n",
    "        lr = joystickToDiff(self.rx, self.ry, -1.0, 1.0)\n",
    "        display((self.rx, self.ry))\n",
    "        display(lr)\n",
    "        socket.send(Messages.control(lr))\n",
    "        # socket.recv()\n",
    "c = Controll()\n",
    "\n",
    "while True:\n",
    "    clear_output(wait=True)\n",
    "    c.read_joy()\n",
    "    c.send_controll()\n"
   ]
  }
 ],
 "metadata": {
  "kernelspec": {
   "display_name": "Python 3",
   "language": "python",
   "name": "python3"
  },
  "language_info": {
   "codemirror_mode": {
    "name": "ipython",
    "version": 3
   },
   "file_extension": ".py",
   "mimetype": "text/x-python",
   "name": "python",
   "nbconvert_exporter": "python",
   "pygments_lexer": "ipython3",
   "version": "3.8.5"
  }
 },
 "nbformat": 4,
 "nbformat_minor": 5
}