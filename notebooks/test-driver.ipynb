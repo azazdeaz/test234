{
 "cells": [
  {
   "cell_type": "code",
   "execution_count": 2,
   "metadata": {},
   "outputs": [],
   "source": [
    "import time\n",
    "import zmq\n",
    "import msgpack\n",
    "\n",
    "context = zmq.Context()\n",
    "socket = context.socket(zmq.SUB)\n",
    "# socket.bind(\"tcp://*:5555\")\n",
    "socket.connect(\"tcp://192.168.50.234:5560\")\n",
    "socket.setsockopt_string(zmq.SUBSCRIBE, \"\")\n",
    "\n",
    "while True:\n",
    "    #  Wait for next request from client\n",
    "    message = socket.recv()\n",
    "    # message = msgpack.unpackb(message)\n",
    "    print(\"Received request: %s\" % message)\n",
    "\n",
    "    #  Do some 'work'\n",
    "#     time.sleep(1)\n",
    "\n",
    "    #  Send reply back to client\n",
    "#     socket.send(b\"World\")"
   ]
  },
  {
   "cell_type": "code",
   "execution_count": null,
   "metadata": {},
   "outputs": [],
   "source": [
    "!python3 -m pip install msgpack"
   ]
  }
 ],
 "metadata": {
  "kernelspec": {
   "display_name": "Python 3",
   "language": "python",
   "name": "python3"
  },
  "language_info": {
   "codemirror_mode": {
    "name": "ipython",
    "version": 3
   },
   "file_extension": ".py",
   "mimetype": "text/x-python",
   "name": "python",
   "nbconvert_exporter": "python",
   "pygments_lexer": "ipython3",
   "version": "3.8.5"
  }
 },
 "nbformat": 4,
 "nbformat_minor": 5
}